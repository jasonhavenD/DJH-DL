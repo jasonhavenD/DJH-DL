{
 "cells": [
  {
   "cell_type": "markdown",
   "metadata": {},
   "source": [
    "- Task\n",
    "    \n",
    "    classifiess movie reviews as positive or negative using the text of the review.\n",
    "    \n",
    "- Implementation\n",
    "    \n",
    "    keras\n",
    "    \n",
    "- datasets\n",
    "    \n",
    "    IMDB "
   ]
  },
  {
   "cell_type": "code",
   "execution_count": 1,
   "metadata": {},
   "outputs": [
    {
     "name": "stderr",
     "output_type": "stream",
     "text": [
      "/home/jasonhaven/anaconda3/lib/python3.6/site-packages/h5py/__init__.py:36: FutureWarning: Conversion of the second argument of issubdtype from `float` to `np.floating` is deprecated. In future, it will be treated as `np.float64 == np.dtype(float).type`.\n",
      "  from ._conv import register_converters as _register_converters\n"
     ]
    },
    {
     "name": "stdout",
     "output_type": "stream",
     "text": [
      "1.9.0\n"
     ]
    }
   ],
   "source": [
    "import tensorflow as tf\n",
    "from tensorflow import keras\n",
    "\n",
    "import numpy as np\n",
    "\n",
    "print(tf.__version__)"
   ]
  },
  {
   "cell_type": "code",
   "execution_count": 5,
   "metadata": {},
   "outputs": [
    {
     "data": {
      "text/plain": [
       "'\\nThe argument num_words=10000 keeps the top 10,000 most frequently occurring words in the training data. \\n\\nThe rare words are discarded to keep the size of the data manageable.\\n\\n'"
      ]
     },
     "execution_count": 5,
     "metadata": {},
     "output_type": "execute_result"
    }
   ],
   "source": [
    "# download the data\n",
    "imdb = keras.datasets.imdb\n",
    "\n",
    "(train_data, train_labels), (test_data, test_labels) = imdb.load_data(num_words=10000)\n",
    "\n",
    "'''\n",
    "The argument num_words=10000 keeps the top 10,000 most frequently occurring words in the training data. \n",
    "\n",
    "The rare words are discarded to keep the size of the data manageable.\n",
    "\n",
    "'''"
   ]
  },
  {
   "cell_type": "code",
   "execution_count": 7,
   "metadata": {},
   "outputs": [
    {
     "name": "stdout",
     "output_type": "stream",
     "text": [
      "Training entries: 25000, labels: 25000\n",
      "Testing entries: 25000, labels: 25000\n"
     ]
    }
   ],
   "source": [
    "# Explore the data \n",
    "'''\n",
    "understand the format of the data. \n",
    "The dataset comes preprocessed: \n",
    "    each example is an array of integers representing the words of the movie review. Each label is an integer value of either 0 or 1, where 0 is a negative review, and 1 is a positive review.\n",
    "'''\n",
    "print(\"Training entries: {}, labels: {}\".format(len(train_data), len(train_labels)))\n",
    "print(\"Testing entries: {}, labels: {}\".format(len(test_data), len(test_labels)))"
   ]
  },
  {
   "cell_type": "code",
   "execution_count": 10,
   "metadata": {},
   "outputs": [
    {
     "name": "stdout",
     "output_type": "stream",
     "text": [
      "[1, 14, 22, 16, 43, 530, 973, 1622, 1385, 65, 458, 4468, 66, 3941, 4, 173, 36, 256, 5, 25, 100, 43, 838, 112, 50, 670, 2, 9, 35, 480, 284, 5, 150, 4, 172, 112, 167, 2, 336, 385, 39, 4, 172, 4536, 1111, 17, 546, 38, 13, 447, 4, 192, 50, 16, 6, 147, 2025, 19, 14, 22, 4, 1920, 4613, 469, 4, 22, 71, 87, 12, 16, 43, 530, 38, 76, 15, 13, 1247, 4, 22, 17, 515, 17, 12, 16, 626, 18, 2, 5, 62, 386, 12, 8, 316, 8, 106, 5, 4, 2223, 5244, 16, 480, 66, 3785, 33, 4, 130, 12, 16, 38, 619, 5, 25, 124, 51, 36, 135, 48, 25, 1415, 33, 6, 22, 12, 215, 28, 77, 52, 5, 14, 407, 16, 82, 2, 8, 4, 107, 117, 5952, 15, 256, 4, 2, 7, 3766, 5, 723, 36, 71, 43, 530, 476, 26, 400, 317, 46, 7, 4, 2, 1029, 13, 104, 88, 4, 381, 15, 297, 98, 32, 2071, 56, 26, 141, 6, 194, 7486, 18, 4, 226, 22, 21, 134, 476, 26, 480, 5, 144, 30, 5535, 18, 51, 36, 28, 224, 92, 25, 104, 4, 226, 65, 16, 38, 1334, 88, 12, 16, 283, 5, 16, 4472, 113, 103, 32, 15, 16, 5345, 19, 178, 32]\n"
     ]
    }
   ],
   "source": [
    "print(train_data[0])"
   ]
  },
  {
   "cell_type": "code",
   "execution_count": 11,
   "metadata": {},
   "outputs": [
    {
     "name": "stdout",
     "output_type": "stream",
     "text": [
      "1\n"
     ]
    }
   ],
   "source": [
    "print(train_labels[0])"
   ]
  },
  {
   "cell_type": "code",
   "execution_count": 12,
   "metadata": {},
   "outputs": [],
   "source": [
    "class_name=['negative','postive']"
   ]
  },
  {
   "cell_type": "code",
   "execution_count": 14,
   "metadata": {},
   "outputs": [
    {
     "data": {
      "text/plain": [
       "(218, 189)"
      ]
     },
     "execution_count": 14,
     "metadata": {},
     "output_type": "execute_result"
    }
   ],
   "source": [
    "'''\n",
    "Movie reviews may be different lengths. \n",
    "The below code shows the number of words in the first and second reviews. \n",
    "Since inputs to a neural network must be the same length, we'll need to resolve this later.\n",
    "'''\n",
    "len(train_data[0]), len(train_data[1])"
   ]
  },
  {
   "cell_type": "code",
   "execution_count": 26,
   "metadata": {},
   "outputs": [],
   "source": [
    "# Convert the integers back to words\n",
    "# A dictionary mapping words to an integer index\n",
    "word_index = imdb.get_word_index()\n",
    "\n",
    "# The first indices are reserved\n",
    "word_index = {k:(v+3) for k,v in word_index.items()} \n",
    "word_index[\"<PAD>\"] = 0\n",
    "word_index[\"<START>\"] = 1\n",
    "word_index[\"<UNK>\"] = 2  # unknown\n",
    "word_index[\"<UNUSED>\"] = 3\n",
    "reverse_word_index = dict([(value, key) for (key, value) in word_index.items()])\n",
    "\n",
    "def decode_review(text):\n",
    "    return ' '.join([reverse_word_index.get(i, '?') for i in text])"
   ]
  },
  {
   "cell_type": "code",
   "execution_count": 27,
   "metadata": {},
   "outputs": [
    {
     "data": {
      "text/plain": [
       "88588"
      ]
     },
     "execution_count": 27,
     "metadata": {},
     "output_type": "execute_result"
    }
   ],
   "source": [
    "len(word_index)"
   ]
  },
  {
   "cell_type": "code",
   "execution_count": 28,
   "metadata": {},
   "outputs": [
    {
     "data": {
      "text/plain": [
       "\"<START> this film was just brilliant casting location scenery story direction everyone's really suited the part they played and you could just imagine being there robert <UNK> is an amazing actor and now the same being director <UNK> father came from the same scottish island as myself so i loved the fact there was a real connection with this film the witty remarks throughout the film were great it was just brilliant so much that i bought the film as soon as it was released for <UNK> and would recommend it to everyone to watch and the fly fishing was amazing really cried at the end it was so sad and you know what they say if you cry at a film it must have been good and this definitely was also <UNK> to the two little boy's that played the <UNK> of norman and paul they were just brilliant children are often left out of the <UNK> list i think because the stars that play them all grown up are such a big profile for the whole film but these children are amazing and should be praised for what they have done don't you think the whole story was so lovely because it was true and was someone's life after all that was shared with us all\""
      ]
     },
     "execution_count": 28,
     "metadata": {},
     "output_type": "execute_result"
    }
   ],
   "source": [
    "decode_review(train_data[0])"
   ]
  },
  {
   "cell_type": "code",
   "execution_count": 34,
   "metadata": {},
   "outputs": [],
   "source": [
    "# Prepare the data\n",
    "\n",
    "'''\n",
    "The reviews—the arrays of integers—must be converted to tensors before fed into the neural network. This conversion can be done a couple of ways:\n",
    "\n",
    "1.One-hot-encode the arrays to convert them into vectors of 0s and 1s. For example, the sequence [3, 5] would become a 10,000-dimensional vector that is all zeros except for indices 3 and 5, which are ones. Then, make this the first layer in our network—a Dense layer—that can handle floating point vector data. This approach is memory intensive, though, requiring a num_words * num_reviews size matrix.\n",
    "\n",
    "2.Alternatively, we can pad the arrays so they all have the same length, then create an integer tensor of shape num_examples * max_length. We can use an embedding layer capable of handling this shape as the first layer in our network.\n",
    "'''\n",
    "\n",
    "# In this tutorial, we will use the second approach.\n",
    "# Since the movie reviews must be the same length, we will use the pad_sequences function to standardize the lengths:\n",
    "\n",
    "train_data = keras.preprocessing.sequence.pad_sequences(train_data,\n",
    "                                                        value=word_index[\"<PAD>\"],\n",
    "                                                        padding='post',\n",
    "                                                        maxlen=256)\n",
    "\n",
    "test_data = keras.preprocessing.sequence.pad_sequences(test_data,\n",
    "                                                       value=word_index[\"<PAD>\"],\n",
    "                                                       padding='post',\n",
    "                                                       maxlen=256)"
   ]
  },
  {
   "cell_type": "code",
   "execution_count": 36,
   "metadata": {},
   "outputs": [
    {
     "data": {
      "text/plain": [
       "256"
      ]
     },
     "execution_count": 36,
     "metadata": {},
     "output_type": "execute_result"
    }
   ],
   "source": [
    "max([len(x) for x in train_data+test_data])"
   ]
  },
  {
   "cell_type": "code",
   "execution_count": 38,
   "metadata": {},
   "outputs": [
    {
     "name": "stdout",
     "output_type": "stream",
     "text": [
      "Help on function pad_sequences in module tensorflow.python.keras.preprocessing.sequence:\n",
      "\n",
      "pad_sequences(sequences, maxlen=None, dtype='int32', padding='pre', truncating='pre', value=0.0)\n",
      "    Pads sequences to the same length.\n",
      "    \n",
      "    This function transforms a list of\n",
      "    `num_samples` sequences (lists of integers)\n",
      "    into a 2D Numpy array of shape `(num_samples, num_timesteps)`.\n",
      "    `num_timesteps` is either the `maxlen` argument if provided,\n",
      "    or the length of the longest sequence otherwise.\n",
      "    \n",
      "    Sequences that are shorter than `num_timesteps`\n",
      "    are padded with `value` at the end.\n",
      "    \n",
      "    Sequences longer than `num_timesteps` are truncated\n",
      "    so that they fit the desired length.\n",
      "    The position where padding or truncation happens is determined by\n",
      "    the arguments `padding` and `truncating`, respectively.\n",
      "    \n",
      "    Pre-padding is the default.\n",
      "    \n",
      "    Arguments:\n",
      "        sequences: List of lists, where each element is a sequence.\n",
      "        maxlen: Int, maximum length of all sequences.\n",
      "        dtype: Type of the output sequences.\n",
      "        padding: String, 'pre' or 'post':\n",
      "            pad either before or after each sequence.\n",
      "        truncating: String, 'pre' or 'post':\n",
      "            remove values from sequences larger than\n",
      "            `maxlen`, either at the beginning or at the end of the sequences.\n",
      "        value: Float, padding value.\n",
      "    \n",
      "    Returns:\n",
      "        x: Numpy array with shape `(len(sequences), maxlen)`\n",
      "    \n",
      "    Raises:\n",
      "        ValueError: In case of invalid values for `truncating` or `padding`,\n",
      "            or in case of invalid shape for a `sequences` entry.\n",
      "\n"
     ]
    }
   ],
   "source": [
    "help(keras.preprocessing.sequence.pad_sequences)"
   ]
  },
  {
   "cell_type": "code",
   "execution_count": 39,
   "metadata": {},
   "outputs": [
    {
     "data": {
      "text/plain": [
       "0"
      ]
     },
     "execution_count": 39,
     "metadata": {},
     "output_type": "execute_result"
    }
   ],
   "source": [
    "word_index[\"<PAD>\"]"
   ]
  },
  {
   "cell_type": "code",
   "execution_count": 40,
   "metadata": {},
   "outputs": [
    {
     "data": {
      "text/plain": [
       "(256, 256)"
      ]
     },
     "execution_count": 40,
     "metadata": {},
     "output_type": "execute_result"
    }
   ],
   "source": [
    "len(train_data[0]), len(train_data[1])"
   ]
  },
  {
   "cell_type": "code",
   "execution_count": 41,
   "metadata": {},
   "outputs": [
    {
     "name": "stdout",
     "output_type": "stream",
     "text": [
      "[   1   14   22   16   43  530  973 1622 1385   65  458 4468   66 3941\n",
      "    4  173   36  256    5   25  100   43  838  112   50  670    2    9\n",
      "   35  480  284    5  150    4  172  112  167    2  336  385   39    4\n",
      "  172 4536 1111   17  546   38   13  447    4  192   50   16    6  147\n",
      " 2025   19   14   22    4 1920 4613  469    4   22   71   87   12   16\n",
      "   43  530   38   76   15   13 1247    4   22   17  515   17   12   16\n",
      "  626   18    2    5   62  386   12    8  316    8  106    5    4 2223\n",
      " 5244   16  480   66 3785   33    4  130   12   16   38  619    5   25\n",
      "  124   51   36  135   48   25 1415   33    6   22   12  215   28   77\n",
      "   52    5   14  407   16   82    2    8    4  107  117 5952   15  256\n",
      "    4    2    7 3766    5  723   36   71   43  530  476   26  400  317\n",
      "   46    7    4    2 1029   13  104   88    4  381   15  297   98   32\n",
      " 2071   56   26  141    6  194 7486   18    4  226   22   21  134  476\n",
      "   26  480    5  144   30 5535   18   51   36   28  224   92   25  104\n",
      "    4  226   65   16   38 1334   88   12   16  283    5   16 4472  113\n",
      "  103   32   15   16 5345   19  178   32    0    0    0    0    0    0\n",
      "    0    0    0    0    0    0    0    0    0    0    0    0    0    0\n",
      "    0    0    0    0    0    0    0    0    0    0    0    0    0    0\n",
      "    0    0    0    0]\n"
     ]
    }
   ],
   "source": [
    "print(train_data[0])"
   ]
  },
  {
   "cell_type": "code",
   "execution_count": 43,
   "metadata": {},
   "outputs": [
    {
     "name": "stdout",
     "output_type": "stream",
     "text": [
      "_________________________________________________________________\n",
      "Layer (type)                 Output Shape              Param #   \n",
      "=================================================================\n",
      "embedding (Embedding)        (None, None, 16)          160000    \n",
      "_________________________________________________________________\n",
      "global_average_pooling1d (Gl (None, 16)                0         \n",
      "_________________________________________________________________\n",
      "dense (Dense)                (None, 16)                272       \n",
      "_________________________________________________________________\n",
      "dense_1 (Dense)              (None, 1)                 17        \n",
      "=================================================================\n",
      "Total params: 160,289\n",
      "Trainable params: 160,289\n",
      "Non-trainable params: 0\n",
      "_________________________________________________________________\n"
     ]
    }
   ],
   "source": [
    "# Build the model\n",
    "# input shape is the vocabulary count used for the movie reviews (10,000 words)\n",
    "vocab_size = 10000\n",
    "\n",
    "model = keras.Sequential()\n",
    "model.add(keras.layers.Embedding(vocab_size, 16))\n",
    "model.add(keras.layers.GlobalAveragePooling1D())\n",
    "model.add(keras.layers.Dense(16, activation=tf.nn.relu))\n",
    "model.add(keras.layers.Dense(1, activation=tf.nn.sigmoid))\n",
    "\n",
    "model.summary()"
   ]
  },
  {
   "cell_type": "markdown",
   "metadata": {},
   "source": [
    "1. The first layer is an Embedding layer. This layer takes the integer-encoded vocabulary and looks up the embedding vector for each word-index. These vectors are learned as the model trains. The vectors add a dimension to the output array. The resulting dimensions are: (batch, sequence, embedding).\n",
    "\n",
    "\n",
    "2. Next, a GlobalAveragePooling1D layer returns a fixed-length output vector for each example by averaging over the sequence dimension. This allows the model can handle input of variable length, in the simplest way possible.\n",
    "\n",
    "\n",
    "3. This fixed-length output vector is piped through a fully-connected (Dense) layer with 16 hidden units.\n",
    "\n",
    "\n",
    "4. The last layer is densely connected with a single output node. Using the sigmoid activation function, this value is a float between 0 and 1, representing a probability, or confidence level.\n"
   ]
  },
  {
   "cell_type": "code",
   "execution_count": 44,
   "metadata": {},
   "outputs": [],
   "source": [
    "# Hidden units\n",
    "'''\n",
    "The above model has two intermediate or \"hidden\" layers, between the input and output. The number of outputs (units, nodes, or neurons) is the dimension of the representational space for the layer. In other words, the amount of freedom the network is allowed when learning an internal representation.\n",
    "\n",
    "If a model has more hidden units (a higher-dimensional representation space), and/or more layers, then the network can learn more complex representations. However, it makes the network more computationally expensive and may lead to learning unwanted patterns—patterns that improve performance on training data but not on the test data. This is called overfitting, and we'll explore it later.\n",
    "'''\n",
    "# Loss function and optimizer\n",
    "'''\n",
    "A model needs a loss function and an optimizer for training.\n",
    "\n",
    "Since this is a binary classification problem and the model outputs of a probability (a single-unit layer with a sigmoid activation), \n",
    "we'll use the binary_crossentropy loss function.\n",
    "\n",
    "'''\n",
    "model.compile(optimizer=tf.train.AdamOptimizer(),\n",
    "              loss='binary_crossentropy',\n",
    "              metrics=['accuracy'])\n"
   ]
  },
  {
   "cell_type": "code",
   "execution_count": 45,
   "metadata": {},
   "outputs": [],
   "source": [
    "# Create a validation set\n",
    "\n",
    "x_val = train_data[:10000]\n",
    "partial_x_train = train_data[10000:]\n",
    "\n",
    "y_val = train_labels[:10000]\n",
    "partial_y_train = train_labels[10000:]\n"
   ]
  },
  {
   "cell_type": "code",
   "execution_count": 46,
   "metadata": {},
   "outputs": [
    {
     "name": "stdout",
     "output_type": "stream",
     "text": [
      "Train on 15000 samples, validate on 10000 samples\n",
      "Epoch 1/40\n",
      "15000/15000 [==============================] - 1s 74us/step - loss: 0.6979 - acc: 0.5093 - val_loss: 0.6937 - val_acc: 0.5028\n",
      "Epoch 2/40\n",
      "15000/15000 [==============================] - 1s 54us/step - loss: 0.6919 - acc: 0.5184 - val_loss: 0.6908 - val_acc: 0.5202\n",
      "Epoch 3/40\n",
      "15000/15000 [==============================] - 1s 48us/step - loss: 0.6894 - acc: 0.5372 - val_loss: 0.6890 - val_acc: 0.5686\n",
      "Epoch 4/40\n",
      "15000/15000 [==============================] - 1s 47us/step - loss: 0.6871 - acc: 0.5937 - val_loss: 0.6867 - val_acc: 0.6014\n",
      "Epoch 5/40\n",
      "15000/15000 [==============================] - 1s 51us/step - loss: 0.6841 - acc: 0.6140 - val_loss: 0.6834 - val_acc: 0.6180\n",
      "Epoch 6/40\n",
      "15000/15000 [==============================] - 1s 48us/step - loss: 0.6804 - acc: 0.6538 - val_loss: 0.6796 - val_acc: 0.6491\n",
      "Epoch 7/40\n",
      "15000/15000 [==============================] - 1s 47us/step - loss: 0.6752 - acc: 0.6964 - val_loss: 0.6745 - val_acc: 0.6611\n",
      "Epoch 8/40\n",
      "15000/15000 [==============================] - 1s 50us/step - loss: 0.6684 - acc: 0.7209 - val_loss: 0.6672 - val_acc: 0.6983\n",
      "Epoch 9/40\n",
      "15000/15000 [==============================] - 1s 51us/step - loss: 0.6591 - acc: 0.7425 - val_loss: 0.6572 - val_acc: 0.7329\n",
      "Epoch 10/40\n",
      "15000/15000 [==============================] - 1s 48us/step - loss: 0.6465 - acc: 0.7615 - val_loss: 0.6440 - val_acc: 0.7504\n",
      "Epoch 11/40\n",
      "15000/15000 [==============================] - 1s 56us/step - loss: 0.6305 - acc: 0.7661 - val_loss: 0.6273 - val_acc: 0.7586\n",
      "Epoch 12/40\n",
      "15000/15000 [==============================] - 1s 64us/step - loss: 0.6089 - acc: 0.7843 - val_loss: 0.6047 - val_acc: 0.7714\n",
      "Epoch 13/40\n",
      "15000/15000 [==============================] - 1s 48us/step - loss: 0.5821 - acc: 0.7963 - val_loss: 0.5805 - val_acc: 0.7803\n",
      "Epoch 14/40\n",
      "15000/15000 [==============================] - 1s 48us/step - loss: 0.5529 - acc: 0.8077 - val_loss: 0.5520 - val_acc: 0.7935\n",
      "Epoch 15/40\n",
      "15000/15000 [==============================] - 1s 48us/step - loss: 0.5214 - acc: 0.8190 - val_loss: 0.5229 - val_acc: 0.8015\n",
      "Epoch 16/40\n",
      "15000/15000 [==============================] - 1s 56us/step - loss: 0.4904 - acc: 0.8294 - val_loss: 0.4955 - val_acc: 0.8102\n",
      "Epoch 17/40\n",
      "15000/15000 [==============================] - 1s 53us/step - loss: 0.4597 - acc: 0.8421 - val_loss: 0.4698 - val_acc: 0.8219\n",
      "Epoch 18/40\n",
      "15000/15000 [==============================] - 1s 48us/step - loss: 0.4316 - acc: 0.8507 - val_loss: 0.4456 - val_acc: 0.8285\n",
      "Epoch 19/40\n",
      "15000/15000 [==============================] - 1s 48us/step - loss: 0.4059 - acc: 0.8589 - val_loss: 0.4242 - val_acc: 0.8397\n",
      "Epoch 20/40\n",
      "15000/15000 [==============================] - 1s 49us/step - loss: 0.3830 - acc: 0.8669 - val_loss: 0.4057 - val_acc: 0.8453\n",
      "Epoch 21/40\n",
      "15000/15000 [==============================] - 1s 50us/step - loss: 0.3623 - acc: 0.8737 - val_loss: 0.3894 - val_acc: 0.8513\n",
      "Epoch 22/40\n",
      "15000/15000 [==============================] - 1s 48us/step - loss: 0.3442 - acc: 0.8789 - val_loss: 0.3757 - val_acc: 0.8552\n",
      "Epoch 23/40\n",
      "15000/15000 [==============================] - 1s 48us/step - loss: 0.3285 - acc: 0.8825 - val_loss: 0.3643 - val_acc: 0.8578\n",
      "Epoch 24/40\n",
      "15000/15000 [==============================] - 1s 49us/step - loss: 0.3140 - acc: 0.8889 - val_loss: 0.3537 - val_acc: 0.8617\n",
      "Epoch 25/40\n",
      "15000/15000 [==============================] - 1s 54us/step - loss: 0.3012 - acc: 0.8942 - val_loss: 0.3446 - val_acc: 0.8641\n",
      "Epoch 26/40\n",
      "15000/15000 [==============================] - 1s 47us/step - loss: 0.2891 - acc: 0.8967 - val_loss: 0.3371 - val_acc: 0.8662\n",
      "Epoch 27/40\n",
      "15000/15000 [==============================] - 1s 58us/step - loss: 0.2786 - acc: 0.8989 - val_loss: 0.3301 - val_acc: 0.8694\n",
      "Epoch 28/40\n",
      "15000/15000 [==============================] - 1s 68us/step - loss: 0.2682 - acc: 0.9038 - val_loss: 0.3238 - val_acc: 0.8706\n",
      "Epoch 29/40\n",
      "15000/15000 [==============================] - 1s 55us/step - loss: 0.2591 - acc: 0.9065 - val_loss: 0.3192 - val_acc: 0.8715\n",
      "Epoch 30/40\n",
      "15000/15000 [==============================] - 1s 49us/step - loss: 0.2514 - acc: 0.9089 - val_loss: 0.3144 - val_acc: 0.8734\n",
      "Epoch 31/40\n",
      "15000/15000 [==============================] - 1s 52us/step - loss: 0.2429 - acc: 0.9129 - val_loss: 0.3107 - val_acc: 0.8756\n",
      "Epoch 32/40\n",
      "15000/15000 [==============================] - 1s 66us/step - loss: 0.2361 - acc: 0.9147 - val_loss: 0.3073 - val_acc: 0.8772\n",
      "Epoch 33/40\n",
      "15000/15000 [==============================] - 1s 53us/step - loss: 0.2286 - acc: 0.9175 - val_loss: 0.3043 - val_acc: 0.8795\n",
      "Epoch 34/40\n",
      "15000/15000 [==============================] - 1s 55us/step - loss: 0.2222 - acc: 0.9201 - val_loss: 0.3017 - val_acc: 0.8808\n",
      "Epoch 35/40\n",
      "15000/15000 [==============================] - 1s 51us/step - loss: 0.2165 - acc: 0.9219 - val_loss: 0.2993 - val_acc: 0.8807\n",
      "Epoch 36/40\n",
      "15000/15000 [==============================] - 1s 53us/step - loss: 0.2100 - acc: 0.9248 - val_loss: 0.2974 - val_acc: 0.8805\n",
      "Epoch 37/40\n",
      "15000/15000 [==============================] - 1s 52us/step - loss: 0.2045 - acc: 0.9265 - val_loss: 0.2959 - val_acc: 0.8816\n",
      "Epoch 38/40\n",
      "15000/15000 [==============================] - 1s 51us/step - loss: 0.1993 - acc: 0.9291 - val_loss: 0.2938 - val_acc: 0.8830\n",
      "Epoch 39/40\n",
      "15000/15000 [==============================] - 1s 52us/step - loss: 0.1938 - acc: 0.9315 - val_loss: 0.2926 - val_acc: 0.8826\n",
      "Epoch 40/40\n",
      "15000/15000 [==============================] - 1s 52us/step - loss: 0.1888 - acc: 0.9325 - val_loss: 0.2913 - val_acc: 0.8837\n"
     ]
    }
   ],
   "source": [
    "# Train the model\n",
    "\n",
    "'''\n",
    "Train the model for 20 epochs in mini-batches of 512 samples. \n",
    "\n",
    "This is 20 iterations over all samples in the x_train and y_train tensors. \n",
    "\n",
    "While training, monitor the model's loss and accuracy on the 10,000 samples from the validation set:\n",
    "'''\n",
    "\n",
    "history = model.fit(partial_x_train,\n",
    "                    partial_y_train,\n",
    "                    epochs=40,\n",
    "                    batch_size=512,\n",
    "                    validation_data=(x_val, y_val),\n",
    "                    verbose=1)\n"
   ]
  },
  {
   "cell_type": "code",
   "execution_count": 47,
   "metadata": {},
   "outputs": [
    {
     "name": "stdout",
     "output_type": "stream",
     "text": [
      "25000/25000 [==============================] - 0s 14us/step\n",
      "[0.30557309093475343, 0.87432]\n"
     ]
    }
   ],
   "source": [
    "# Evaluate the model\n",
    "\n",
    "results=model.evaluate(test_data,test_labels)\n",
    "\n",
    "print(results)"
   ]
  },
  {
   "cell_type": "code",
   "execution_count": 48,
   "metadata": {},
   "outputs": [
    {
     "data": {
      "text/plain": [
       "dict_keys(['val_loss', 'val_acc', 'loss', 'acc'])"
      ]
     },
     "execution_count": 48,
     "metadata": {},
     "output_type": "execute_result"
    }
   ],
   "source": [
    "# Create a graph of accuracy and loss over time\n",
    "\n",
    "history_dict = history.history\n",
    "history_dict.keys()"
   ]
  },
  {
   "cell_type": "code",
   "execution_count": 51,
   "metadata": {},
   "outputs": [
    {
     "data": {
      "image/png": "[encoded data removed]",
      "text/plain": [
       "<Figure size 432x288 with 1 Axes>"
      ]
     },
     "metadata": {},
     "output_type": "display_data"
    }
   ],
   "source": [
    "import matplotlib.pyplot as plt\n",
    "\n",
    "%matplotlib inline\n",
    "\n",
    "acc = history.history['acc']\n",
    "val_acc = history.history['val_acc']\n",
    "loss = history.history['loss']\n",
    "val_loss = history.history['val_loss']\n",
    "\n",
    "epochs = range(1, len(acc) + 1)\n",
    "\n",
    "# \"bo\" is for \"blue dot\"\n",
    "plt.plot(epochs, loss, 'bo', label='Training loss')\n",
    "# b is for \"solid blue line\"\n",
    "plt.plot(epochs, val_loss, 'b', label='Validation loss')\n",
    "\n",
    "plt.title('Training and validation loss')\n",
    "plt.xlabel('Epochs')\n",
    "plt.ylabel('Loss')\n",
    "plt.legend()\n",
    "plt.show()"
   ]
  },
  {
   "cell_type": "code",
   "execution_count": 53,
   "metadata": {},
   "outputs": [
    {
     "name": "stdout",
     "output_type": "stream",
     "text": [
      "40 40 40 40\n"
     ]
    }
   ],
   "source": [
    "print(len(acc),len(val_acc),len(loss),len(val_loss))"
   ]
  },
  {
   "cell_type": "code",
   "execution_count": 54,
   "metadata": {},
   "outputs": [
    {
     "data": {
      "image/png": "[encoded data removed]",
      "text/plain": [
       "<Figure size 432x288 with 1 Axes>"
      ]
     },
     "metadata": {},
     "output_type": "display_data"
    }
   ],
   "source": [
    "#plt.clf()   # clear figure\n",
    "acc_values = history_dict['acc']\n",
    "val_acc_values = history_dict['val_acc']\n",
    "\n",
    "plt.plot(epochs, acc, 'bo', label='Training acc')\n",
    "plt.plot(epochs, val_acc, 'b', label='Validation acc')\n",
    "plt.title('Training and validation accuracy')\n",
    "plt.xlabel('Epochs')\n",
    "plt.ylabel('Accuracy')\n",
    "plt.legend()\n",
    "\n",
    "plt.show()"
   ]
  },
  {
   "cell_type": "code",
   "execution_count": null,
   "metadata": {},
   "outputs": [],
   "source": []
  }
 ],
 "metadata": {
  "kernelspec": {
   "display_name": "Python 3",
   "language": "python",
   "name": "python3"
  },
  "language_info": {
   "codemirror_mode": {
    "name": "ipython",
    "version": 3
   },
   "file_extension": ".py",
   "mimetype": "text/x-python",
   "name": "python",
   "nbconvert_exporter": "python",
   "pygments_lexer": "ipython3",
   "version": "3.6.5"
  }
 },
 "nbformat": 4,
 "nbformat_minor": 2
}
